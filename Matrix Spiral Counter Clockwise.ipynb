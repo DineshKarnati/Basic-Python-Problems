{
 "cells": [
  {
   "cell_type": "code",
   "execution_count": 1,
   "metadata": {},
   "outputs": [],
   "source": [
    "\"\"\"k = Starting Row Index\n",
    "   m = Ending Row Column\n",
    "   l = Starting Column Index\n",
    "   n = Ending column Index\"\"\"\n",
    "from numpy import *"
   ]
  },
  {
   "cell_type": "code",
   "execution_count": 2,
   "metadata": {},
   "outputs": [
    {
     "name": "stdout",
     "output_type": "stream",
     "text": [
      "1 11 23 21 14 50 65 23 77 5 4 3 2 34 45 32 27 49 54 89 66 55 67 43 38 "
     ]
    }
   ],
   "source": [
    "def counterclockspiral(m,n,a):\n",
    "    k = 0;l = 0\n",
    "    count = 0\n",
    "    total = m*n\n",
    "    while (k<m and l<n):\n",
    "        if(count==total):\n",
    "            break\n",
    "        for i in range(k, m):\n",
    "            print(a[i][l], end = \" \") \n",
    "            count += 1\n",
    "        l += 1\n",
    "        if (count == total):\n",
    "            break\n",
    "            for i in range (l, n):\n",
    "                print( a[m - 1][i], end = \" \") \n",
    "                count += 1\n",
    "            m -= 1\n",
    "          \n",
    "        if (count == total) : \n",
    "            break\n",
    "  \n",
    "        if (k < m) : \n",
    "            for i in range(m - 1, k - 1, -1):\n",
    "                print(a[i][n - 1], end = \" \") \n",
    "                count += 1\n",
    "            n -= 1\n",
    "  \n",
    "        if (count == total) : \n",
    "            break\n",
    "            \n",
    "        if (l < n) : \n",
    "            for i in range(n - 1, l - 1, -1) : \n",
    "                print( a[k][i], end = \" \") \n",
    "                count += 1\n",
    "            k += 1\n",
    "            \n",
    "m = 5 ; n = 5           \n",
    "a = [[1,2,3,4,5],\n",
    "     [11,34,55,66,77],\n",
    "     [23,45,67,89,23],\n",
    "     [21,32,43,54,65],\n",
    "     [14,27,38,49,50]]    \n",
    "counterclockspiral(m,n,a)"
   ]
  },
  {
   "cell_type": "code",
   "execution_count": 4,
   "metadata": {},
   "outputs": [
    {
     "data": {
      "text/plain": [
       "[[1, 2, 3, 4, 5],\n",
       " [11, 34, 55, 66, 77],\n",
       " [23, 45, 67, 89, 23],\n",
       " [21, 32, 43, 54, 65],\n",
       " [14, 27, 38, 49, 50]]"
      ]
     },
     "execution_count": 4,
     "metadata": {},
     "output_type": "execute_result"
    }
   ],
   "source": [
    "a"
   ]
  },
  {
   "cell_type": "code",
   "execution_count": 7,
   "metadata": {},
   "outputs": [
    {
     "name": "stdout",
     "output_type": "stream",
     "text": [
      "1 3 12 78 7 5 4 3 2 4 23 67 8 9 45 "
     ]
    }
   ],
   "source": [
    "b=[[1,2,3,4,5],\n",
    "   [3,4,9,8,7],\n",
    "   [12,23,45,67,78]]\n",
    "counterclockspiral(3,5,b)"
   ]
  },
  {
   "cell_type": "code",
   "execution_count": 8,
   "metadata": {},
   "outputs": [
    {
     "name": "stdout",
     "output_type": "stream",
     "text": [
      "1 5 9 13 14 15 16 12 8 4 3 2 6 10 11 7 "
     ]
    }
   ],
   "source": [
    "R = 4\n",
    "C = 4\n",
    "def counterClockspiralPrint(m, n, arr) : \n",
    "    k = 0; l = 0\n",
    "    cnt = 0\n",
    "    total = m * n \n",
    "  \n",
    "    while (k < m and l < n) : \n",
    "        if (cnt == total) : \n",
    "            break\n",
    "        for i in range(k, m) : \n",
    "            print(arr[i][l], end = \" \") \n",
    "            cnt += 1\n",
    "          \n",
    "        l += 1\n",
    "        if (cnt == total) : \n",
    "            break \n",
    "        for i in range (l, n) : \n",
    "            print( arr[m - 1][i], end = \" \") \n",
    "            cnt += 1\n",
    "          \n",
    "        m -= 1\n",
    "          \n",
    "        if (cnt == total) : \n",
    "            break\n",
    "\n",
    "        if (k < m) : \n",
    "            for i in range(m - 1, k - 1, -1) : \n",
    "                print(arr[i][n - 1], end = \" \") \n",
    "                cnt += 1\n",
    "            n -= 1\n",
    "  \n",
    "        if (cnt == total) : \n",
    "            break\n",
    "   \n",
    "        if (l < n) : \n",
    "            for i in range(n - 1, l - 1, -1) : \n",
    "                print( arr[k][i], end = \" \") \n",
    "                cnt += 1\n",
    "            k += 1\n",
    "arr = [ [ 1, 2, 3, 4 ], \n",
    "        [ 5, 6, 7, 8 ], \n",
    "        [ 9, 10, 11, 12 ], \n",
    "        [ 13, 14, 15, 16 ] ] \n",
    "counterClockspiralPrint(R, C, arr) "
   ]
  },
  {
   "cell_type": "code",
   "execution_count": null,
   "metadata": {},
   "outputs": [],
   "source": []
  },
  {
   "cell_type": "code",
   "execution_count": null,
   "metadata": {},
   "outputs": [],
   "source": []
  },
  {
   "cell_type": "code",
   "execution_count": null,
   "metadata": {},
   "outputs": [],
   "source": []
  },
  {
   "cell_type": "code",
   "execution_count": null,
   "metadata": {},
   "outputs": [],
   "source": []
  }
 ],
 "metadata": {
  "kernelspec": {
   "display_name": "Python 3",
   "language": "python",
   "name": "python3"
  },
  "language_info": {
   "codemirror_mode": {
    "name": "ipython",
    "version": 3
   },
   "file_extension": ".py",
   "mimetype": "text/x-python",
   "name": "python",
   "nbconvert_exporter": "python",
   "pygments_lexer": "ipython3",
   "version": "3.7.1"
  }
 },
 "nbformat": 4,
 "nbformat_minor": 2
}

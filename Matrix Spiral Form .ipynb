{
 "cells": [
  {
   "cell_type": "code",
   "execution_count": 1,
   "metadata": {},
   "outputs": [
    {
     "data": {
      "text/plain": [
       "' K = Starting Row index\\n   m = Ending Row index\\n   l = Starting Column index\\n   n = Ending Row column\\n   a = Matrix'"
      ]
     },
     "execution_count": 1,
     "metadata": {},
     "output_type": "execute_result"
    }
   ],
   "source": [
    "\"\"\" K = Starting Row index\n",
    "   m = Ending Row index\n",
    "   l = Starting Column index\n",
    "   n = Ending Row column\n",
    "   a = Matrix\"\"\""
   ]
  },
  {
   "cell_type": "code",
   "execution_count": 2,
   "metadata": {},
   "outputs": [
    {
     "name": "stdout",
     "output_type": "stream",
     "text": [
      "1 2 3 4 5 6 12 18 17 16 15 14 13 7 8 9 10 11 "
     ]
    }
   ],
   "source": [
    "def spiralform(m,n,a):\n",
    "    k = 0; l = 0\n",
    "    while ( k < m and l < n):\n",
    "        for i in range(l,n):\n",
    "            print(a[k][i],end = \" \")\n",
    "        k+=1\n",
    "        for i in range(k,m):\n",
    "            print(a[i][n-1],end = \" \")\n",
    "       \n",
    "        n-=1\n",
    "        \n",
    "        if (k<m):\n",
    "            for i in range(n-1,l-1,-1):\n",
    "                print(a[m-1][i],end = \" \")\n",
    "            m -= 1\n",
    "        \n",
    "        if (l < n) : \n",
    "            for i in range(m - 1, k - 1, -1) : \n",
    "                print(a[i][l], end = \" \") \n",
    "            l += 1\n",
    "\n",
    "a = [ [1, 2, 3, 4, 5, 6], \n",
    "      [7, 8, 9, 10, 11, 12], \n",
    "      [13, 14, 15, 16, 17, 18] ] \n",
    "        \n",
    "m = 3; n = 6\n",
    "spiralform(m, n, a) "
   ]
  }
 ],
 "metadata": {
  "kernelspec": {
   "display_name": "Python 3",
   "language": "python",
   "name": "python3"
  },
  "language_info": {
   "codemirror_mode": {
    "name": "ipython",
    "version": 3
   },
   "file_extension": ".py",
   "mimetype": "text/x-python",
   "name": "python",
   "nbconvert_exporter": "python",
   "pygments_lexer": "ipython3",
   "version": "3.7.1"
  }
 },
 "nbformat": 4,
 "nbformat_minor": 2
}

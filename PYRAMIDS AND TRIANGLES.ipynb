{
 "cells": [
  {
   "cell_type": "code",
   "execution_count": 9,
   "metadata": {},
   "outputs": [],
   "source": [
    "def pyr(n):\n",
    "    for i in range(1,n):\n",
    "        for j in range(i+1):\n",
    "            print(\"*\",end=\"\")\n",
    "        print(\"\\r\")   "
   ]
  },
  {
   "cell_type": "code",
   "execution_count": 10,
   "metadata": {},
   "outputs": [
    {
     "name": "stdout",
     "output_type": "stream",
     "text": [
      "**\r\n",
      "***\r\n",
      "****\r\n",
      "*****\r\n"
     ]
    }
   ],
   "source": [
    "pyr(5)"
   ]
  },
  {
   "cell_type": "code",
   "execution_count": 11,
   "metadata": {},
   "outputs": [],
   "source": [
    "def pyra(m):\n",
    "    k=2*m-2\n",
    "    for i in range(0,m):\n",
    "        for j in range(0,k):\n",
    "            print(end=\"\")\n",
    "        k=k-2\n",
    "        for j in range(0,i+1):\n",
    "            print(\"*\",end=\"\")\n",
    "        print(\"\\r\")    "
   ]
  },
  {
   "cell_type": "code",
   "execution_count": 12,
   "metadata": {},
   "outputs": [
    {
     "name": "stdout",
     "output_type": "stream",
     "text": [
      "*\r\n",
      "**\r\n",
      "***\r\n",
      "****\r\n"
     ]
    }
   ],
   "source": [
    "pyra(4)"
   ]
  },
  {
   "cell_type": "code",
   "execution_count": 13,
   "metadata": {},
   "outputs": [],
   "source": [
    "def pypart2(n): \n",
    "    k = 2*n - 2\n",
    "    for i in range(0, n): \n",
    "        for j in range(0, k): \n",
    "            print(end=\" \") \n",
    "        k = k - 2\n",
    "        for j in range(0, i+1):\n",
    "            print(\"* \", end=\"\") \n",
    "        print(\"\\r\") \n",
    "  "
   ]
  },
  {
   "cell_type": "code",
   "execution_count": 14,
   "metadata": {},
   "outputs": [
    {
     "name": "stdout",
     "output_type": "stream",
     "text": [
      "        * \r\n",
      "      * * \r\n",
      "    * * * \r\n",
      "  * * * * \r\n",
      "* * * * * \r\n"
     ]
    }
   ],
   "source": [
    "pypart2(5)"
   ]
  },
  {
   "cell_type": "code",
   "execution_count": 15,
   "metadata": {},
   "outputs": [],
   "source": [
    "def pyra(m):\n",
    "    k  = 2*m - 2\n",
    "    for i in range(0, m):\n",
    "        for j in range(0, k):\n",
    "            print(end=\" \")\n",
    "        k = k - 2\n",
    "        for j in range(0, i+1):\n",
    "            print(\"* \",end=\"\")\n",
    "        print(\"\\r\")    "
   ]
  },
  {
   "cell_type": "code",
   "execution_count": 16,
   "metadata": {},
   "outputs": [
    {
     "name": "stdout",
     "output_type": "stream",
     "text": [
      "        * \r\n",
      "      * * \r\n",
      "    * * * \r\n",
      "  * * * * \r\n",
      "* * * * * \r\n"
     ]
    }
   ],
   "source": [
    "pyra(5)"
   ]
  },
  {
   "cell_type": "code",
   "execution_count": 21,
   "metadata": {},
   "outputs": [],
   "source": [
    "def tri(m):\n",
    "    k=2*m-2\n",
    "    for i in range(0,m):\n",
    "        for j in range(0,k):\n",
    "            print(end=\" \")\n",
    "        k=k-1\n",
    "        for j in range(0,i+1):\n",
    "            print(\"* \",end=\"\")\n",
    "        print(\"\\r\")    "
   ]
  },
  {
   "cell_type": "code",
   "execution_count": 22,
   "metadata": {},
   "outputs": [
    {
     "name": "stdout",
     "output_type": "stream",
     "text": [
      "        * \r\n",
      "       * * \r\n",
      "      * * * \r\n",
      "     * * * * \r\n",
      "    * * * * * \r\n"
     ]
    }
   ],
   "source": [
    "tri(5)"
   ]
  },
  {
   "cell_type": "code",
   "execution_count": 23,
   "metadata": {},
   "outputs": [],
   "source": [
    "def numpyr(n):\n",
    "    num=1\n",
    "    for i in range(0,n):\n",
    "        num=1\n",
    "        for j in range(0,i+1):\n",
    "            print(num,end=\"\")\n",
    "            num=num+1\n",
    "        print(\"\\r\")"
   ]
  },
  {
   "cell_type": "code",
   "execution_count": 25,
   "metadata": {},
   "outputs": [
    {
     "name": "stdout",
     "output_type": "stream",
     "text": [
      "1\r\n",
      "12\r\n",
      "123\r\n",
      "1234\r\n",
      "12345\r\n"
     ]
    }
   ],
   "source": [
    "numpyr(5)"
   ]
  },
  {
   "cell_type": "code",
   "execution_count": 28,
   "metadata": {},
   "outputs": [],
   "source": [
    "def alpha(m):\n",
    "    num=65\n",
    "    for i in range(0,m):\n",
    "        for j in range(0,i+1):\n",
    "            ch=chr(num)\n",
    "            print(ch,end=\"\")\n",
    "        num=num+1\n",
    "        print(\"\\r\")"
   ]
  },
  {
   "cell_type": "code",
   "execution_count": 29,
   "metadata": {},
   "outputs": [
    {
     "name": "stdout",
     "output_type": "stream",
     "text": [
      "A\r\n",
      "BB\r\n",
      "CCC\r\n",
      "DDDD\r\n",
      "EEEEE\r\n",
      "FFFFFF\r\n",
      "GGGGGGG\r\n",
      "HHHHHHHH\r\n",
      "IIIIIIIII\r\n",
      "JJJJJJJJJJ\r\n",
      "KKKKKKKKKKK\r\n",
      "LLLLLLLLLLLL\r\n",
      "MMMMMMMMMMMMM\r\n",
      "NNNNNNNNNNNNNN\r\n",
      "OOOOOOOOOOOOOOO\r\n",
      "PPPPPPPPPPPPPPPP\r\n",
      "QQQQQQQQQQQQQQQQQ\r\n",
      "RRRRRRRRRRRRRRRRRR\r\n",
      "SSSSSSSSSSSSSSSSSSS\r\n",
      "TTTTTTTTTTTTTTTTTTTT\r\n",
      "UUUUUUUUUUUUUUUUUUUUU\r\n"
     ]
    }
   ],
   "source": [
    "alpha(21)"
   ]
  },
  {
   "cell_type": "code",
   "execution_count": 31,
   "metadata": {},
   "outputs": [],
   "source": [
    "def alphar(m):\n",
    "    num=65\n",
    "    for i in range(0,m):\n",
    "        for j in range(0,i+1):\n",
    "            ch=chr(num)\n",
    "            print(ch,end=\"\")\n",
    "            num=num+1\n",
    "        print(\"\\r\")"
   ]
  },
  {
   "cell_type": "code",
   "execution_count": 32,
   "metadata": {},
   "outputs": [
    {
     "name": "stdout",
     "output_type": "stream",
     "text": [
      "A\r\n",
      "BC\r\n",
      "DEF\r\n",
      "GHIJ\r\n",
      "KLMNO\r\n",
      "PQRSTU\r\n",
      "VWXYZ[\\\r\n",
      "]^_`abcd\r\n",
      "efghijklm\r\n",
      "nopqrstuvw\r\n",
      "xyz{|}~\r\n",
      "",
      "\r\n"
     ]
    }
   ],
   "source": [
    "alphar(12)"
   ]
  },
  {
   "cell_type": "code",
   "execution_count": null,
   "metadata": {},
   "outputs": [],
   "source": []
  }
 ],
 "metadata": {
  "kernelspec": {
   "display_name": "Python 3",
   "language": "python",
   "name": "python3"
  },
  "language_info": {
   "codemirror_mode": {
    "name": "ipython",
    "version": 3
   },
   "file_extension": ".py",
   "mimetype": "text/x-python",
   "name": "python",
   "nbconvert_exporter": "python",
   "pygments_lexer": "ipython3",
   "version": "3.7.1"
  }
 },
 "nbformat": 4,
 "nbformat_minor": 2
}

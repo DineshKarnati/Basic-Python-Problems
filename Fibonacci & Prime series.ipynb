{
 "cells": [
  {
   "cell_type": "code",
   "execution_count": 19,
   "metadata": {},
   "outputs": [
    {
     "name": "stdout",
     "output_type": "stream",
     "text": [
      "0\n"
     ]
    }
   ],
   "source": [
    "def fib(m):\n",
    "    if m<0:\n",
    "        print(\"enter\")\n",
    "    elif m==0:\n",
    "        return 0\n",
    "    elif m==1:\n",
    "        return 1\n",
    "    else:\n",
    "        return fib(m-1)+fib(m-2)\n",
    "from math import sqrt\n",
    "max=1000\n",
    "def prime(n):\n",
    "    count=0\n",
    "    for i in range(2,max+1):\n",
    "        check=0\n",
    "        for j in range(2,int(sqrt(i))+1):\n",
    "            if i%j==0:\n",
    "                check=1\n",
    "                break\n",
    "        if check==0:\n",
    "            count+=1\n",
    "        if count==n:\n",
    "            return i\n",
    "            break\n",
    "def nth(m):\n",
    "    if m%2==0:\n",
    "        m=m//2\n",
    "        m=prime(m)\n",
    "        print (m)\n",
    "    else:\n",
    "        m=m//2+1\n",
    "        m=fib(m-1)\n",
    "        print(m)\n",
    "nth(1)"
   ]
  },
  {
   "cell_type": "code",
   "execution_count": null,
   "metadata": {},
   "outputs": [],
   "source": []
  }
 ],
 "metadata": {
  "kernelspec": {
   "display_name": "Python 3",
   "language": "python",
   "name": "python3"
  },
  "language_info": {
   "codemirror_mode": {
    "name": "ipython",
    "version": 3
   },
   "file_extension": ".py",
   "mimetype": "text/x-python",
   "name": "python",
   "nbconvert_exporter": "python",
   "pygments_lexer": "ipython3",
   "version": "3.7.1"
  }
 },
 "nbformat": 4,
 "nbformat_minor": 2
}

{
 "cells": [
  {
   "cell_type": "code",
   "execution_count": 4,
   "metadata": {},
   "outputs": [
    {
     "name": "stdout",
     "output_type": "stream",
     "text": [
      "23455432\n",
      "p\n"
     ]
    }
   ],
   "source": [
    "n=int(input())\n",
    "temp = n\n",
    "rev=0\n",
    "while(n>0):\n",
    "    digit=n%10\n",
    "    rev=rev*10 + digit\n",
    "    n=n//10\n",
    "if rev==temp:\n",
    "    print(\"p\")\n",
    "else:\n",
    "    print(\"n\")"
   ]
  },
  {
   "cell_type": "code",
   "execution_count": 6,
   "metadata": {},
   "outputs": [
    {
     "name": "stdout",
     "output_type": "stream",
     "text": [
      "ert\n",
      "<reversed object at 0x000002AD3F352D68>\n"
     ]
    }
   ],
   "source": [
    "m=input()\n",
    "oo=reversed(m)\n",
    "print(oo)"
   ]
  },
  {
   "cell_type": "code",
   "execution_count": 2,
   "metadata": {},
   "outputs": [
    {
     "name": "stdout",
     "output_type": "stream",
     "text": [
      "viv\n",
      "m\n"
     ]
    }
   ],
   "source": [
    "a=input()\n",
    "b=reversed(a)\n",
    "if b==a:\n",
    "    print(\"p\")\n",
    "else:\n",
    "    print(\"m\")"
   ]
  },
  {
   "cell_type": "code",
   "execution_count": null,
   "metadata": {},
   "outputs": [],
   "source": []
  }
 ],
 "metadata": {
  "kernelspec": {
   "display_name": "Python 3",
   "language": "python",
   "name": "python3"
  },
  "language_info": {
   "codemirror_mode": {
    "name": "ipython",
    "version": 3
   },
   "file_extension": ".py",
   "mimetype": "text/x-python",
   "name": "python",
   "nbconvert_exporter": "python",
   "pygments_lexer": "ipython3",
   "version": "3.7.1"
  }
 },
 "nbformat": 4,
 "nbformat_minor": 2
}

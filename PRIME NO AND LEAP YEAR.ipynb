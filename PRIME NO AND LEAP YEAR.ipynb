{
 "cells": [
  {
   "cell_type": "code",
   "execution_count": 8,
   "metadata": {},
   "outputs": [
    {
     "name": "stdout",
     "output_type": "stream",
     "text": [
      "enter11\n",
      "prime\n"
     ]
    }
   ],
   "source": [
    "n=int(input(\"enter\"))\n",
    "if n > 1:\n",
    "    for i in range(2,n):\n",
    "        if (n%i)==0:\n",
    "            print(\"not prime\")\n",
    "            break\n",
    "        else:\n",
    "            print(\"prime\")\n",
    "            break\n",
    "    else:\n",
    "        print(\"not prime\")"
   ]
  },
  {
   "cell_type": "code",
   "execution_count": null,
   "metadata": {},
   "outputs": [],
   "source": [
    "year = int(input(\"enter\"))\n",
    "if ((year%400)==0) or((year%4 ==0) and (year%100 !=0)):\n",
    "    print(\"leap\")\n",
    "else:\n",
    "    print(\"not\")"
   ]
  },
  {
   "cell_type": "code",
   "execution_count": null,
   "metadata": {},
   "outputs": [],
   "source": [
    "def prime(n):\n",
    "    for n in range(1,n+1):\n",
    "        if n > 1:\n",
    "            for i in range(2,n):\n",
    "                if (n%i)==0:\n",
    "                    break\n",
    "            else:\n",
    "                    print(n)"
   ]
  },
  {
   "cell_type": "code",
   "execution_count": null,
   "metadata": {},
   "outputs": [],
   "source": [
    "prime(102)"
   ]
  },
  {
   "cell_type": "code",
   "execution_count": 5,
   "metadata": {},
   "outputs": [],
   "source": [
    "def approach3(givenNumber):  \n",
    "    \n",
    "    # Initialize a list\n",
    "    primes = []\n",
    "    for possiblePrime in range(2, givenNumber + 1): \n",
    "        isPrime = True\n",
    "        for num in range(2, int(possiblePrime ** 0.5) + 1):\n",
    "            if possiblePrime % num == 0:\n",
    "                isPrime = False\n",
    "                break        \n",
    "        if isPrime:\n",
    "            primes.append(possiblePrime)\n",
    "    \n",
    "    return(primes)\n"
   ]
  },
  {
   "cell_type": "code",
   "execution_count": 6,
   "metadata": {},
   "outputs": [
    {
     "data": {
      "text/plain": [
       "[2,\n",
       " 3,\n",
       " 5,\n",
       " 7,\n",
       " 11,\n",
       " 13,\n",
       " 17,\n",
       " 19,\n",
       " 23,\n",
       " 29,\n",
       " 31,\n",
       " 37,\n",
       " 41,\n",
       " 43,\n",
       " 47,\n",
       " 53,\n",
       " 59,\n",
       " 61,\n",
       " 67,\n",
       " 71,\n",
       " 73,\n",
       " 79,\n",
       " 83,\n",
       " 89,\n",
       " 97]"
      ]
     },
     "execution_count": 6,
     "metadata": {},
     "output_type": "execute_result"
    }
   ],
   "source": [
    "approach3(100)"
   ]
  }
 ],
 "metadata": {
  "kernelspec": {
   "display_name": "Python 3",
   "language": "python",
   "name": "python3"
  },
  "language_info": {
   "codemirror_mode": {
    "name": "ipython",
    "version": 3
   },
   "file_extension": ".py",
   "mimetype": "text/x-python",
   "name": "python",
   "nbconvert_exporter": "python",
   "pygments_lexer": "ipython3",
   "version": "3.7.1"
  }
 },
 "nbformat": 4,
 "nbformat_minor": 2
}

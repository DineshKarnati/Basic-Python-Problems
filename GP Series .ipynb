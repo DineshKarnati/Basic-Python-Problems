{
 "cells": [
  {
   "cell_type": "code",
   "execution_count": 2,
   "metadata": {},
   "outputs": [
    {
     "name": "stdout",
     "output_type": "stream",
     "text": [
      "5\n"
     ]
    }
   ],
   "source": [
    "def nth(n):\n",
    "    if n%2==0:\n",
    "        n=n//2\n",
    "        n=2*(n-1)\n",
    "        print(n//2)\n",
    "    else:\n",
    "        n=n//2+1\n",
    "        n=2*(n-1)\n",
    "        print(n)\n",
    "nth(12)    "
   ]
  },
  {
   "cell_type": "code",
   "execution_count": 4,
   "metadata": {},
   "outputs": [
    {
     "name": "stdout",
     "output_type": "stream",
     "text": [
      "4\n"
     ]
    }
   ],
   "source": [
    "def gp1(n):\n",
    "    if n%2==0:\n",
    "        n=n//2\n",
    "        n=3**(n-1)\n",
    "        print(n//2)\n",
    "    else:\n",
    "        n=n//2+1\n",
    "        print(2*(n-1))\n",
    "gp1(5)            "
   ]
  },
  {
   "cell_type": "code",
   "execution_count": null,
   "metadata": {},
   "outputs": [],
   "source": []
  }
 ],
 "metadata": {
  "kernelspec": {
   "display_name": "Python 3",
   "language": "python",
   "name": "python3"
  },
  "language_info": {
   "codemirror_mode": {
    "name": "ipython",
    "version": 3
   },
   "file_extension": ".py",
   "mimetype": "text/x-python",
   "name": "python",
   "nbconvert_exporter": "python",
   "pygments_lexer": "ipython3",
   "version": "3.7.3"
  }
 },
 "nbformat": 4,
 "nbformat_minor": 2
}

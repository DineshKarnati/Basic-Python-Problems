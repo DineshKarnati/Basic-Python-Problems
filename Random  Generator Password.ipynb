{
 "cells": [
  {
   "cell_type": "code",
   "execution_count": 2,
   "metadata": {},
   "outputs": [
    {
     "name": "stdout",
     "output_type": "stream",
     "text": [
      "1\n",
      "2\n",
      "5\n",
      "7\n",
      "9\n"
     ]
    }
   ],
   "source": [
    "d = [1,2,22,33,44,55,5,7,9,10]\n",
    "for i in d:\n",
    "    if i < 10:\n",
    "        print(i)"
   ]
  },
  {
   "cell_type": "code",
   "execution_count": 1,
   "metadata": {},
   "outputs": [
    {
     "name": "stdout",
     "output_type": "stream",
     "text": [
      "enter a num26\n",
      "1\n",
      "2\n",
      "13\n",
      "26\n"
     ]
    }
   ],
   "source": [
    "n =int(input(\"enter a num\"))\n",
    "for i in range(1,n+1):\n",
    "    if n%i==0:\n",
    "        print(i)\n"
   ]
  },
  {
   "cell_type": "code",
   "execution_count": 2,
   "metadata": {},
   "outputs": [],
   "source": [
    "a = [1, 1, 2, 3, 5, 8, 13, 21, 34, 55, 89]\n",
    "b = [1, 2, 3, 4, 5, 6, 7, 8, 9, 10, 11, 12, 13]\n",
    "c=[]\n",
    "for i in a:\n",
    "    if i in b:\n",
    "        c.append(i)"
   ]
  },
  {
   "cell_type": "code",
   "execution_count": 3,
   "metadata": {},
   "outputs": [
    {
     "name": "stdout",
     "output_type": "stream",
     "text": [
      "[1, 1, 2, 3, 5, 8, 13]\n"
     ]
    }
   ],
   "source": [
    "print(c)"
   ]
  },
  {
   "cell_type": "code",
   "execution_count": 7,
   "metadata": {},
   "outputs": [
    {
     "name": "stdout",
     "output_type": "stream",
     "text": [
      "range(1, 16)\n",
      "range(1, 18)\n",
      "[1, 2, 3, 4, 5, 6, 7, 8, 9, 10, 11, 12, 13, 14, 15]\n"
     ]
    }
   ],
   "source": [
    "import random\n",
    "a = range(1, random.randint(1,30))\n",
    "b= range(1,random.randint(1,30))\n",
    "c=[]\n",
    "for i in a:\n",
    "    if i in b:\n",
    "        c.append(i)\n",
    "print(a)\n",
    "print(b)\n",
    "print(c)"
   ]
  },
  {
   "cell_type": "code",
   "execution_count": 16,
   "metadata": {},
   "outputs": [
    {
     "name": "stdout",
     "output_type": "stream",
     "text": [
      "1amvh4*u\n"
     ]
    }
   ],
   "source": [
    "# PASSWORD GENERATOR\n",
    "import random\n",
    "\n",
    "a=\"qwertyuiopasdfghjklzxcvbnm@%$*^/+-<>2345678901\"\n",
    "passwordlen = 8\n",
    "\n",
    "password = \"\".join(random.sample(a,passwordlen))\n",
    "print(password)\n"
   ]
  },
  {
   "cell_type": "code",
   "execution_count": null,
   "metadata": {},
   "outputs": [],
   "source": []
  }
 ],
 "metadata": {
  "kernelspec": {
   "display_name": "Python 3",
   "language": "python",
   "name": "python3"
  },
  "language_info": {
   "codemirror_mode": {
    "name": "ipython",
    "version": 3
   },
   "file_extension": ".py",
   "mimetype": "text/x-python",
   "name": "python",
   "nbconvert_exporter": "python",
   "pygments_lexer": "ipython3",
   "version": "3.7.1"
  }
 },
 "nbformat": 4,
 "nbformat_minor": 2
}

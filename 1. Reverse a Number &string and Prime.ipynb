{
 "cells": [
  {
   "cell_type": "code",
   "execution_count": 1,
   "metadata": {},
   "outputs": [],
   "source": [
    "def reverse(Number):   \n",
    "    Reverse = 0    \n",
    "    while(Number > 0):    \n",
    "        Reminder = Number %10    \n",
    "        Reverse = (Reverse *10) + Reminder    \n",
    "        Number = Number //10    \n",
    "    print(Reverse)\n",
    "    "
   ]
  },
  {
   "cell_type": "code",
   "execution_count": 2,
   "metadata": {},
   "outputs": [
    {
     "name": "stdout",
     "output_type": "stream",
     "text": [
      "111222333444555666777888999\n"
     ]
    }
   ],
   "source": [
    "reverse(999888777666555444333222111)"
   ]
  },
  {
   "cell_type": "code",
   "execution_count": 3,
   "metadata": {},
   "outputs": [
    {
     "name": "stdout",
     "output_type": "stream",
     "text": [
      "dinesh\n",
      "hsenid\n"
     ]
    }
   ],
   "source": [
    "def reverse(string): \n",
    "    string = string[::-1] \n",
    "    return string \n",
    "  \n",
    "s = input() \n",
    "\n",
    "print (reverse(s)) \n"
   ]
  },
  {
   "cell_type": "code",
   "execution_count": 4,
   "metadata": {},
   "outputs": [],
   "source": [
    "def prime(n):\n",
    "    for n in range(1,n+1):\n",
    "        if n > 1:\n",
    "            for i in range(2,n):\n",
    "                if (n%i)==0:\n",
    "                    break\n",
    "            else:\n",
    "                    print(n)"
   ]
  },
  {
   "cell_type": "code",
   "execution_count": 6,
   "metadata": {},
   "outputs": [
    {
     "name": "stdout",
     "output_type": "stream",
     "text": [
      "2\n",
      "3\n",
      "5\n",
      "7\n",
      "11\n",
      "13\n",
      "17\n",
      "19\n",
      "23\n",
      "29\n",
      "31\n",
      "37\n",
      "41\n",
      "43\n",
      "47\n",
      "53\n",
      "59\n",
      "61\n",
      "67\n",
      "71\n",
      "73\n",
      "79\n",
      "83\n",
      "89\n",
      "97\n"
     ]
    }
   ],
   "source": [
    "prime(100)"
   ]
  }
 ],
 "metadata": {
  "kernelspec": {
   "display_name": "Python 3",
   "language": "python",
   "name": "python3"
  },
  "language_info": {
   "codemirror_mode": {
    "name": "ipython",
    "version": 3
   },
   "file_extension": ".py",
   "mimetype": "text/x-python",
   "name": "python",
   "nbconvert_exporter": "python",
   "pygments_lexer": "ipython3",
   "version": "3.7.1"
  }
 },
 "nbformat": 4,
 "nbformat_minor": 2
}
